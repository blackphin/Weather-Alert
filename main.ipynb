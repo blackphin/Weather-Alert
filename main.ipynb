{
 "cells": [
  {
   "cell_type": "markdown",
   "metadata": {},
   "source": [
    "Imports"
   ]
  },
  {
   "cell_type": "code",
   "execution_count": null,
   "metadata": {},
   "outputs": [],
   "source": [
    "import requests\n",
    "from twilio.rest import Client"
   ]
  },
  {
   "cell_type": "code",
   "execution_count": null,
   "metadata": {},
   "outputs": [],
   "source": [
    "location=input(\"Enter a Location: \")"
   ]
  },
  {
   "cell_type": "code",
   "execution_count": null,
   "metadata": {},
   "outputs": [],
   "source": [
    "position_api_key = \"556e00daaffef61e92d718bbd58b3ff1\"\n",
    "position_endpoint = \"http://api.positionstack.com/v1/forward\"\n",
    "position_params = {\n",
    "    \"access_key\": position_api_key,\n",
    "    \"query\": location,\n",
    "}\n",
    "\n",
    "response=requests.get(position_endpoint, params=position_params)\n",
    "latitude=response.json()[\"data\"][0][\"latitude\"]\n",
    "longitude=response.json()[\"data\"][0][\"longitude\"]\n",
    "\n",
    "weather_api_key = \"5e973f5b4df7d99b7d106ca7a7b409b1\"\n",
    "weather_endpoint = \"https://api.openweathermap.org/data/2.5/weather\"\n",
    "weather_params = {\n",
    "    \"lat\":latitude,\n",
    "    \"lon\":longitude,\n",
    "    # \"exclude\":\"current,minutely,hourly\",\n",
    "    \"appid\":weather_api_key,\n",
    "    \"units\":\"metric\"\n",
    "}\n",
    "\n",
    "response=requests.get(weather_endpoint, params=weather_params)\n",
    "print(response.json())"
   ]
  },
  {
   "cell_type": "code",
   "execution_count": null,
   "metadata": {},
   "outputs": [],
   "source": [
    "from flask import Flask, request\n",
    "from twilio.twiml.messaging_response import MessagingResponse\n",
    "\n",
    "app=Flask(__name__)\n",
    "@app.route(\"/\")\n",
    "def hello():\n",
    "    return \"Hello, World!\"\n",
    "@app.route(\"/sms\", methods=[\"POST\"])\n",
    "def sms():\n",
    "    incoming_msg = request.values.get('Body', '').lower()\n",
    "    resp = MessagingResponse()\n",
    "    msg = resp.message()\n",
    "\n",
    "    if 'weather' in incoming_msg:\n",
    "        #! Return a gesture good morning\n",
    "        msg.body('Good Morning..\\nHave a nice day..')\n",
    "    else:\n",
    "        msg.body(\"ok\")\n",
    "    return str(response)\n",
    "\n",
    "if __name__ == '__main__':\n",
    "    app.run(port=5000, debug=True)"
   ]
  }
 ],
 "metadata": {
  "kernelspec": {
   "display_name": "Python 3.10.5 64-bit",
   "language": "python",
   "name": "python3"
  },
  "language_info": {
   "name": "python",
   "version": "3.10.5"
  },
  "orig_nbformat": 4,
  "vscode": {
   "interpreter": {
    "hash": "26de051ba29f2982a8de78e945f0abaf191376122a1563185a90213a26c5da77"
   }
  }
 },
 "nbformat": 4,
 "nbformat_minor": 2
}
